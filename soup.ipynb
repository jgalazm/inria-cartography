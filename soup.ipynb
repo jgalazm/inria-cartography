{
 "cells": [
  {
   "cell_type": "code",
   "execution_count": 1,
   "metadata": {},
   "outputs": [],
   "source": [
    "from bs4 import BeautifulSoup \n",
    "import requests"
   ]
  },
  {
   "cell_type": "markdown",
   "metadata": {},
   "source": [
    "Get the list of teams from the page"
   ]
  },
  {
   "cell_type": "code",
   "execution_count": 2,
   "metadata": {},
   "outputs": [],
   "source": [
    "url = 'https://raweb.inria.fr/rapportsactivite/RA2017/index.html'\n",
    "\n",
    "req = requests.get(url)\n",
    "\n",
    "soup = BeautifulSoup(req.text)\n",
    "\n",
    "\n",
    "elements = soup.select('div#listeAlpha > a')"
   ]
  },
  {
   "cell_type": "markdown",
   "metadata": {},
   "source": [
    "Get the urls for each team"
   ]
  },
  {
   "cell_type": "code",
   "execution_count": 7,
   "metadata": {},
   "outputs": [],
   "source": [
    "teams = {}\n",
    "for element in elements[:5]:\n",
    "    if element.text == '': continue\n",
    "\n",
    "    teams[element.text] = {}\n",
    "    \n",
    "    urlParts= list(filter(lambda item: item!='', url.split('/')[:-1]))\n",
    "\n",
    "    urlParts[0] = 'https:/'\n",
    "\n",
    "    urlParts.append(element.attrs['href'])\n",
    "\n",
    "    newUrl = \"/\".join(urlParts)\n",
    "    teams[element.text]['url'] = newUrl"
   ]
  },
  {
   "cell_type": "code",
   "execution_count": 11,
   "metadata": {
    "scrolled": false
   },
   "outputs": [],
   "source": [
    "for team in teams:\n",
    "    # acess the page of that team and get the list of keywords\n",
    "    teamReq = requests.get(newUrl)\n",
    "\n",
    "    teamSoup = BeautifulSoup(teamReq.text)\n",
    "\n",
    "    keywords = teamSoup.select('div.Keywordspage1 > ul > li')\n",
    "\n",
    "    keywords = list(map(lambda element: element.text, keywords))\n",
    "    teams[team]['keywords'] = keywords"
   ]
  },
  {
   "cell_type": "code",
   "execution_count": 12,
   "metadata": {},
   "outputs": [
    {
     "data": {
      "text/plain": [
       "{'Abs': {'url': 'https://raweb.inria.fr/rapportsactivite/RA2017/abs/uid0.html',\n",
       "  'keywords': ['A3.1.8. - Big data (production, storage, transfer)',\n",
       "   'A6.1.1. - Continuous Modeling (PDE, ODE)',\n",
       "   'A6.1.2. - Stochastic Modeling (SPDE, SDE)',\n",
       "   'A6.1.4. - Multiscale modeling',\n",
       "   'A6.1.5. - Multiphysics modeling',\n",
       "   'A6.2.1. - Numerical analysis of PDE and ODE',\n",
       "   'A6.2.4. - Statistical methods',\n",
       "   'A6.2.6. - Optimization',\n",
       "   'A6.2.7. - High performance computing',\n",
       "   'A6.3.1. - Inverse problems',\n",
       "   'A6.3.2. - Data assimilation',\n",
       "   'A6.3.4. - Model reduction']},\n",
       " 'Acumes': {'url': 'https://raweb.inria.fr/rapportsactivite/RA2017/acumes/uid0.html',\n",
       "  'keywords': ['A3.1.8. - Big data (production, storage, transfer)',\n",
       "   'A6.1.1. - Continuous Modeling (PDE, ODE)',\n",
       "   'A6.1.2. - Stochastic Modeling (SPDE, SDE)',\n",
       "   'A6.1.4. - Multiscale modeling',\n",
       "   'A6.1.5. - Multiphysics modeling',\n",
       "   'A6.2.1. - Numerical analysis of PDE and ODE',\n",
       "   'A6.2.4. - Statistical methods',\n",
       "   'A6.2.6. - Optimization',\n",
       "   'A6.2.7. - High performance computing',\n",
       "   'A6.3.1. - Inverse problems',\n",
       "   'A6.3.2. - Data assimilation',\n",
       "   'A6.3.4. - Model reduction']},\n",
       " 'Agora': {'url': 'https://raweb.inria.fr/rapportsactivite/RA2017/agora/uid0.html',\n",
       "  'keywords': ['A3.1.8. - Big data (production, storage, transfer)',\n",
       "   'A6.1.1. - Continuous Modeling (PDE, ODE)',\n",
       "   'A6.1.2. - Stochastic Modeling (SPDE, SDE)',\n",
       "   'A6.1.4. - Multiscale modeling',\n",
       "   'A6.1.5. - Multiphysics modeling',\n",
       "   'A6.2.1. - Numerical analysis of PDE and ODE',\n",
       "   'A6.2.4. - Statistical methods',\n",
       "   'A6.2.6. - Optimization',\n",
       "   'A6.2.7. - High performance computing',\n",
       "   'A6.3.1. - Inverse problems',\n",
       "   'A6.3.2. - Data assimilation',\n",
       "   'A6.3.4. - Model reduction']},\n",
       " 'Airsea': {'url': 'https://raweb.inria.fr/rapportsactivite/RA2017/airsea/uid0.html',\n",
       "  'keywords': ['A3.1.8. - Big data (production, storage, transfer)',\n",
       "   'A6.1.1. - Continuous Modeling (PDE, ODE)',\n",
       "   'A6.1.2. - Stochastic Modeling (SPDE, SDE)',\n",
       "   'A6.1.4. - Multiscale modeling',\n",
       "   'A6.1.5. - Multiphysics modeling',\n",
       "   'A6.2.1. - Numerical analysis of PDE and ODE',\n",
       "   'A6.2.4. - Statistical methods',\n",
       "   'A6.2.6. - Optimization',\n",
       "   'A6.2.7. - High performance computing',\n",
       "   'A6.3.1. - Inverse problems',\n",
       "   'A6.3.2. - Data assimilation',\n",
       "   'A6.3.4. - Model reduction']}}"
      ]
     },
     "execution_count": 12,
     "metadata": {},
     "output_type": "execute_result"
    }
   ],
   "source": [
    "teams"
   ]
  }
 ],
 "metadata": {
  "kernelspec": {
   "display_name": "Python 3",
   "language": "python",
   "name": "python3"
  },
  "language_info": {
   "codemirror_mode": {
    "name": "ipython",
    "version": 3
   },
   "file_extension": ".py",
   "mimetype": "text/x-python",
   "name": "python",
   "nbconvert_exporter": "python",
   "pygments_lexer": "ipython3",
   "version": "3.6.7"
  }
 },
 "nbformat": 4,
 "nbformat_minor": 2
}
